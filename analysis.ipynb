{
 "cells": [
  {
   "cell_type": "code",
   "execution_count": null,
   "metadata": {},
   "outputs": [],
   "source": [
    "import glob\n",
    "import pandas as pd\n",
    "import re\n",
    "import ipywidgets as widgets\n"
   ]
  },
  {
   "cell_type": "code",
   "execution_count": null,
   "metadata": {},
   "outputs": [],
   "source": [
    "# Read all csv files\n",
    "files = glob.glob(f'*.csv')\n",
    "files.insert(0, '')\n"
   ]
  },
  {
   "cell_type": "code",
   "execution_count": null,
   "metadata": {},
   "outputs": [],
   "source": [
    "data_regex = re.compile(\"(\\d+) (\\w+) (\\d+) \\(\\w+\\),\")\n",
    "meta_regex = re.compile(\"(ATM)\")\n",
    "columns = ['Date', 'Profit', 'Max Profit/Loss', 'BN Gap Up/Down', 'India VIX',\n",
    "           'BN Prev Day H/L', 'Spot Change', '(1) BN Buy 1 Lot ATM PE', '(2) BN Buy 1 Lot ATM CE']\n"
   ]
  },
  {
   "cell_type": "code",
   "execution_count": null,
   "metadata": {},
   "outputs": [],
   "source": [
    "# Define widgets\n",
    "strategy_dropdown = widgets.Dropdown(\n",
    "    options=files,\n",
    "    description='Strategy:'\n",
    ")\n",
    "\n",
    "meta_output = widgets.Output()\n",
    "aggregate_output = widgets.Output()\n",
    "\n",
    "\n",
    "def strategy_dropdown_handler(change):\n",
    "    file = change.new\n",
    "    meta_output.clear_output()\n",
    "    aggregate_output.clear_output()\n",
    "\n",
    "    if file == '':\n",
    "        return\n",
    "\n",
    "    file_reader = open(file, 'r')\n",
    "    lines = file_reader.readlines()\n",
    "    df = pd.DataFrame(list(filter(data_regex.match, lines)))\n",
    "    df = df[0].str.split(\",\", expand=True)\n",
    "    df.columns = columns\n",
    "    df['Profit'] = pd.to_numeric(df['Profit'])\n",
    "    df['Day'] = df['Date'].str.extract('\\((\\w+)\\)', expand=True)\n",
    "    df['Month'] = df['Date'].str.extract('\\d+ (\\w+) \\d+', expand=True)\n",
    "    df['Year'] = df['Date'].str.extract('\\d+ \\w+ (\\d+)', expand=True)\n",
    "\n",
    "    meta = \"\".join(list(filter(meta_regex.match, lines)))\n",
    "\n",
    "    df_agg = pd.pivot_table(df, values='Profit', columns=['Day'], index=[\n",
    "                            'Year', 'Month'], aggfunc='sum', margins=True)\n",
    "\n",
    "    with meta_output:\n",
    "        display(print(meta))\n",
    "\n",
    "    with aggregate_output:\n",
    "        display(df_agg)\n",
    "\n",
    "\n",
    "strategy_dropdown.observe(strategy_dropdown_handler, names='value')\n"
   ]
  },
  {
   "cell_type": "code",
   "execution_count": null,
   "metadata": {},
   "outputs": [],
   "source": [
    "# Dropdown selector widget\n",
    "display(strategy_dropdown)\n"
   ]
  },
  {
   "cell_type": "code",
   "execution_count": null,
   "metadata": {},
   "outputs": [],
   "source": [
    "# File meta information\n",
    "display(meta_output)\n"
   ]
  },
  {
   "cell_type": "code",
   "execution_count": null,
   "metadata": {},
   "outputs": [],
   "source": [
    "# Aggregated by day/month/year\n",
    "display(aggregate_output)\n"
   ]
  }
 ],
 "metadata": {
  "interpreter": {
   "hash": "8b8334dab9339717f727a1deaf837b322d7a41c20d15cc86be99a8e69ceec8ce"
  },
  "kernelspec": {
   "display_name": "Python 3.8.12 64-bit ('3.8.12': pyenv)",
   "language": "python",
   "name": "python3"
  },
  "language_info": {
   "codemirror_mode": {
    "name": "ipython",
    "version": 3
   },
   "file_extension": ".py",
   "mimetype": "text/x-python",
   "name": "python",
   "nbconvert_exporter": "python",
   "pygments_lexer": "ipython3",
   "version": "3.8.12"
  },
  "orig_nbformat": 4
 },
 "nbformat": 4,
 "nbformat_minor": 2
}

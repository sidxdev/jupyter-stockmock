{
 "cells": [
  {
   "cell_type": "code",
   "execution_count": null,
   "metadata": {},
   "outputs": [],
   "source": [
    "import glob\n",
    "import pandas as pd\n",
    "import re\n"
   ]
  },
  {
   "cell_type": "code",
   "execution_count": null,
   "metadata": {},
   "outputs": [],
   "source": [
    "# Read all csv files\n",
    "files = pd.DataFrame(glob.glob(f'*.csv'), columns=['filename'])\n"
   ]
  },
  {
   "cell_type": "code",
   "execution_count": null,
   "metadata": {},
   "outputs": [],
   "source": [
    "files['data'] = None\n",
    "files['data'] = files['data'].astype('object')\n",
    "data_regex = re.compile(\"(\\d+) (\\w+) (\\d+) \\(\\w+\\),\")\n",
    "columns = ['Date', 'Profit', 'Max Profit/Loss', 'BN Gap Up/Down', 'India VIX',\n",
    "           'BN Prev Day H/L', 'Spot Change', '(1) BN Buy 1 Lot ATM PE', '(2) BN Buy 1 Lot ATM CE']\n",
    "for index, file in files.iterrows():\n",
    "    file_reader = open(file['filename'], 'r')\n",
    "    lines = file_reader.readlines()\n",
    "    df = pd.DataFrame(list(filter(data_regex.match, lines)))\n",
    "    df = df[0].str.split(\",\", expand=True)\n",
    "    df.columns = columns\n",
    "    files.at[index, 'data'] = df\n"
   ]
  },
  {
   "cell_type": "code",
   "execution_count": null,
   "metadata": {},
   "outputs": [],
   "source": []
  }
 ],
 "metadata": {
  "interpreter": {
   "hash": "8b8334dab9339717f727a1deaf837b322d7a41c20d15cc86be99a8e69ceec8ce"
  },
  "kernelspec": {
   "display_name": "Python 3.8.12 64-bit ('3.8.12': pyenv)",
   "language": "python",
   "name": "python3"
  },
  "language_info": {
   "codemirror_mode": {
    "name": "ipython",
    "version": 3
   },
   "file_extension": ".py",
   "mimetype": "text/x-python",
   "name": "python",
   "nbconvert_exporter": "python",
   "pygments_lexer": "ipython3",
   "version": "3.8.12"
  },
  "orig_nbformat": 4
 },
 "nbformat": 4,
 "nbformat_minor": 2
}
